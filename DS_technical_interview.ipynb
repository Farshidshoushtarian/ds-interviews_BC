{
 "cells": [
  {
   "cell_type": "markdown",
   "metadata": {},
   "source": [
    "# BC Data Scientist Interview"
   ]
  },
  {
   "cell_type": "markdown",
   "metadata": {},
   "source": [
    "### Development tools documentation\n",
    "This notebook was developed using the following tools to ensure reproducibility:\n",
    "\n",
    "1. Python: Version 3.11.9\n",
    "2. Jupyter Notebook: It was used for interactive data analysis and visualization.\n",
    "3. Python libraries used:\n",
    "    3.1. Pandas: For data manipulation and analysis\n",
    "    3.2. Matplotlib: For data visualization\n",
    "    3.3. Seaborn: For enhanced visualization\n",
    "    3.4. Numpy: For numerical operations\n",
    "    3.5. Scikit-learn: For developing ML model\n",
    "\n",
    "For reproducibility, the exact versions of the libraries can be found in the \"requirements.txt\" file."
   ]
  },
  {
   "cell_type": "markdown",
   "metadata": {},
   "source": []
  }
 ],
 "metadata": {
  "language_info": {
   "name": "python"
  }
 },
 "nbformat": 4,
 "nbformat_minor": 2
}
